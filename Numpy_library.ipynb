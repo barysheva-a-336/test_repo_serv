{
 "cells": [
  {
   "cell_type": "markdown",
   "metadata": {},
   "source": [
    "## Задание 1\n",
    "\n",
    "Создайте numpy array с элементами от числа N до 0 (например, для N = 10 это будет array([9, 8, 7, 6, 5, 4, 3, 2, 1, 0]))."
   ]
  },
  {
   "cell_type": "markdown",
   "metadata": {},
   "source": [
    "### Решение:"
   ]
  },
  {
   "cell_type": "code",
   "execution_count": 2,
   "metadata": {},
   "outputs": [],
   "source": [
    "import numpy as np"
   ]
  },
  {
   "cell_type": "code",
   "execution_count": 10,
   "metadata": {},
   "outputs": [
    {
     "name": "stdout",
     "output_type": "stream",
     "text": [
      "Input the number: 15\n"
     ]
    },
    {
     "data": {
      "text/plain": [
       "array([15, 14, 13, 12, 11, 10,  9,  8,  7,  6,  5,  4,  3,  2,  1,  0])"
      ]
     },
     "execution_count": 10,
     "metadata": {},
     "output_type": "execute_result"
    }
   ],
   "source": [
    "number = int(input(\"Input the number: \"))\n",
    "a = np.arange(number,-1,-1)\n",
    "a"
   ]
  },
  {
   "cell_type": "markdown",
   "metadata": {},
   "source": [
    "## Задание 2\n",
    "\n",
    "Создайте диагональную матрицу с элементами от N до 0. Посчитайте сумму ее значений на диагонали."
   ]
  },
  {
   "cell_type": "markdown",
   "metadata": {},
   "source": [
    "### Решение 1:"
   ]
  },
  {
   "cell_type": "code",
   "execution_count": 19,
   "metadata": {},
   "outputs": [
    {
     "name": "stdout",
     "output_type": "stream",
     "text": [
      "Введите число N:8\n",
      "Матрица: \n",
      " [[8 0 0 0 0 0 0 0 0]\n",
      " [0 7 0 0 0 0 0 0 0]\n",
      " [0 0 6 0 0 0 0 0 0]\n",
      " [0 0 0 5 0 0 0 0 0]\n",
      " [0 0 0 0 4 0 0 0 0]\n",
      " [0 0 0 0 0 3 0 0 0]\n",
      " [0 0 0 0 0 0 2 0 0]\n",
      " [0 0 0 0 0 0 0 1 0]\n",
      " [0 0 0 0 0 0 0 0 0]]\n",
      "Сумма элементов диагональной матрицы:  36\n"
     ]
    }
   ],
   "source": [
    "N = int(input(\"Введите число N:\"))\n",
    "matrix = np.diag(np.arange(N, -1, -1))\n",
    "print(\"Матрица: \\n\", matrix)\n",
    "print(\"Сумма элементов диагональной матрицы: \", sum(range(N, -1, -1)))"
   ]
  },
  {
   "cell_type": "markdown",
   "metadata": {},
   "source": [
    "### Решение 2:"
   ]
  },
  {
   "cell_type": "code",
   "execution_count": 18,
   "metadata": {},
   "outputs": [
    {
     "name": "stdout",
     "output_type": "stream",
     "text": [
      "Введите число N: 5\n",
      "Матрица: \n",
      " [[5 0 0 0 0 0]\n",
      " [0 4 0 0 0 0]\n",
      " [0 0 3 0 0 0]\n",
      " [0 0 0 2 0 0]\n",
      " [0 0 0 0 1 0]\n",
      " [0 0 0 0 0 0]]\n",
      "Сумма элементов диагональной матрицы:  15\n"
     ]
    }
   ],
   "source": [
    "N_1 = int(input(\"Введите число N: \"))\n",
    "matrix_1 = np.diag(np.arange(N_1,-1,-1))\n",
    "print(\"Матрица: \\n\", matrix_1)\n",
    "sum_of_matrix_diagonal = sum(matrix_1[i][i] for i in range(N_1))\n",
    "    \n",
    "print(\"Сумма элементов диагональной матрицы: \", sum_of_matrix_diagonal)"
   ]
  },
  {
   "cell_type": "markdown",
   "metadata": {},
   "source": [
    "## Задание 3\n",
    "\n",
    "Решите систему уравнений:  \n",
    "4x + 2y + z = 4  \n",
    "x + 3y = 12  \n",
    "5y + 4z = -3  "
   ]
  },
  {
   "cell_type": "markdown",
   "metadata": {},
   "source": [
    "### Решение:"
   ]
  },
  {
   "cell_type": "code",
   "execution_count": 15,
   "metadata": {},
   "outputs": [
    {
     "name": "stdout",
     "output_type": "stream",
     "text": [
      "Решение:  [ 0.46666667  3.84444444 -5.55555556]\n",
      "Результат проверки решения:  True\n"
     ]
    }
   ],
   "source": [
    "from numpy import linalg\n",
    "array_of_factors = np.array([\n",
    "    [4,2,1], \n",
    "    [1,3,0], \n",
    "    [0, 5, 4]\n",
    "])\n",
    "array_of_results = np.array([4, 12, -3])\n",
    "array_of_variables = linalg.solve(array_of_factors, array_of_results)\n",
    "print(\"Решение: \", array_of_variables)\n",
    "print (\"Результат проверки решения: \", np.allclose( np.dot(array_of_factors, array_of_variables),array_of_results ))"
   ]
  },
  {
   "cell_type": "markdown",
   "metadata": {},
   "source": [
    "## Задание 4\n",
    "\n",
    "Имеется матрица users_stats для покупок пользователей в интернет-магазине. Индекс строки в матрице - ID пользователя. Остальные столбцы - количество покупок категорий товаров этим пользователем. Матрица в виде numpy array. \n",
    "\n",
    "На сайт заходит очередной посетитель, со следующим списком покупок: [0, 1, 2, 0, 0, 0]\n",
    "\n",
    "Найдите самого похожего пользователя. Т. е. посчитайте косинусное сходство между этим пользователем и всеми пользователями из массива user_stats"
   ]
  },
  {
   "cell_type": "markdown",
   "metadata": {},
   "source": [
    "### Решение:"
   ]
  },
  {
   "cell_type": "code",
   "execution_count": 3,
   "metadata": {},
   "outputs": [
    {
     "data": {
      "text/plain": [
       "array([[2, 1, 0, 0, 0, 0],\n",
       "       [1, 1, 2, 1, 0, 0],\n",
       "       [2, 0, 1, 0, 0, 0],\n",
       "       [1, 1, 2, 1, 0, 1],\n",
       "       [0, 0, 1, 2, 0, 0],\n",
       "       [0, 0, 0, 0, 0, 5],\n",
       "       [1, 0, 0, 0, 0, 0],\n",
       "       [0, 1, 1, 0, 0, 0],\n",
       "       [0, 0, 0, 1, 1, 3],\n",
       "       [1, 0, 0, 2, 1, 4]])"
      ]
     },
     "execution_count": 3,
     "metadata": {},
     "output_type": "execute_result"
    }
   ],
   "source": [
    "users_stats = np.array(\n",
    "    [\n",
    "        [2, 1, 0, 0, 0, 0],\n",
    "        [1, 1, 2, 1, 0, 0],\n",
    "        [2, 0, 1, 0, 0, 0],\n",
    "        [1, 1, 2, 1, 0, 1],\n",
    "        [0, 0, 1, 2, 0, 0],\n",
    "        [0, 0, 0, 0, 0, 5],\n",
    "        [1, 0, 0, 0, 0, 0],\n",
    "        [0, 1, 1, 0, 0, 0],\n",
    "        [0, 0, 0, 1, 1, 3],\n",
    "        [1, 0, 0, 2, 1, 4]\n",
    "    ], \n",
    "    np.int32\n",
    ")\n",
    "users_stats"
   ]
  },
  {
   "cell_type": "code",
   "execution_count": 21,
   "metadata": {},
   "outputs": [
    {
     "name": "stdout",
     "output_type": "stream",
     "text": [
      "Номер строки для пользователя с максимально похожим списком покупок:  8\n"
     ]
    }
   ],
   "source": [
    "next_user_stats = np.array([0, 1, 2, 0, 0, 0])\n",
    "next_user_stats_len = np.linalg.norm(next_user_stats)\n",
    "min_cos = np.array([])\n",
    "for i in users_stats:\n",
    "    i_len = np.linalg.norm(i)\n",
    "    cos_i_next = np.dot(i,next_user_stats)/(next_user_stats_len * i_len)\n",
    "    angle = np.arccos(cos_i_next)\n",
    "    min_cos = np.append(min_cos, angle)\n",
    "result = np.argmin(min_cos)\n",
    "print(\"Номер строки для пользователя с максимально похожим списком покупок: \", result+1)"
   ]
  }
 ],
 "metadata": {
  "kernelspec": {
   "display_name": "Python 3",
   "language": "python",
   "name": "python3"
  },
  "language_info": {
   "codemirror_mode": {
    "name": "ipython",
    "version": 3
   },
   "file_extension": ".py",
   "mimetype": "text/x-python",
   "name": "python",
   "nbconvert_exporter": "python",
   "pygments_lexer": "ipython3",
   "version": "3.8.5"
  }
 },
 "nbformat": 4,
 "nbformat_minor": 4
}
