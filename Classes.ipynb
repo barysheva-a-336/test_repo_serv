{
 "cells": [
  {
   "cell_type": "markdown",
   "metadata": {},
   "source": [
    "## Задание 1:\n",
    "\n",
    "Напишите функцию, которая возвращает название валюты (поле ‘Name’) с максимальным значением курса с помощью сервиса https://www.cbr-xml-daily.ru/daily_json.js"
   ]
  },
  {
   "cell_type": "markdown",
   "metadata": {},
   "source": [
    "### Решение:"
   ]
  },
  {
   "cell_type": "code",
   "execution_count": 16,
   "metadata": {},
   "outputs": [
    {
     "name": "stdout",
     "output_type": "stream",
     "text": [
      "СДР (специальные права заимствования)\n"
     ]
    }
   ],
   "source": [
    "import requests\n",
    "\n",
    "def get_rate_name(url):\n",
    "    rates = requests.get(url).json()[\"Valute\"]\n",
    "    max_value = max(rates[i][\"Value\"] for i in rates)\n",
    "    name_of_max_value = [rates[i][\"Name\"] for i in rates if rates[i][\"Value\"] == max_value]\n",
    "    return name_of_max_value\n",
    "    \n",
    "print(*get_rate_name(\"https://www.cbr-xml-daily.ru/daily_json.js\"))"
   ]
  },
  {
   "cell_type": "markdown",
   "metadata": {},
   "source": [
    "## Задание 2\n",
    "\n",
    "Добавьте в класс Rate параметр diff (со значениями True или False), который в случае значения True в методах курсов валют (eur, usd итд) будет возвращать не курс валюты, а изменение по сравнению в прошлым значением. Считайте, self.diff будет принимать значение True только при возврате значения курса. При отображении всей информации о валюте он не используется."
   ]
  },
  {
   "cell_type": "markdown",
   "metadata": {},
   "source": [
    "### Решение:"
   ]
  },
  {
   "cell_type": "code",
   "execution_count": 24,
   "metadata": {},
   "outputs": [],
   "source": [
    "class Rate:\n",
    "    def __init__(self, format_='value', difference = False):\n",
    "        self.format = format_\n",
    "        self.diff = difference\n",
    "    \n",
    "    def exchange_rates(self):\n",
    "        \"\"\"\n",
    "        Возвращает ответ сервиса с информацией о валютах в виде:\n",
    "        \n",
    "        {\n",
    "            'AMD': {\n",
    "                'CharCode': 'AMD',\n",
    "                'ID': 'R01060',\n",
    "                'Name': 'Армянских драмов',\n",
    "                'Nominal': 100,\n",
    "                'NumCode': '051',\n",
    "                'Previous': 14.103,\n",
    "                'Value': 14.0879\n",
    "                },\n",
    "            ...\n",
    "        }\n",
    "        \"\"\"\n",
    "        self.r = requests.get('https://www.cbr-xml-daily.ru/daily_json.js')\n",
    "        return self.r.json()['Valute']\n",
    "    \n",
    "    def make_format(self, currency):\n",
    "        \"\"\"\n",
    "        Возвращает информацию о валюте currency в двух вариантах:\n",
    "        - полная информация о валюте при self.format = 'full':\n",
    "        Rate('full').make_format('EUR')\n",
    "        {\n",
    "            'CharCode': 'EUR',\n",
    "            'ID': 'R01239',\n",
    "            'Name': 'Евро',\n",
    "            'Nominal': 1,\n",
    "            'NumCode': '978',\n",
    "            'Previous': 79.6765,\n",
    "            'Value': 79.4966\n",
    "        }\n",
    "        \n",
    "        Rate('value').make_format('EUR')\n",
    "        79.4966\n",
    "        \"\"\"\n",
    "        response = self.exchange_rates()\n",
    "        \n",
    "        \n",
    "        if currency in response:\n",
    "            \n",
    "            if self.format == 'full':\n",
    "                return response[currency]\n",
    "            \n",
    "            if self.format == 'value':\n",
    "                \n",
    "                if self.diff == True:\n",
    "                    return response[currency][\"Previous\"]\n",
    "                    \n",
    "                else:\n",
    "                    return response[currency]['Value']\n",
    "        \n",
    "        return 'Error'\n",
    "    \n",
    "    def eur(self):\n",
    "        \n",
    "        \"\"\"Возвращает курс евро на сегодня в формате self.format\"\"\"\n",
    "        return self.make_format('EUR')\n",
    "    \n",
    "    def usd(self):\n",
    "        \"\"\"Возвращает курс доллара на сегодня в формате self.format\"\"\"\n",
    "        return self.make_format('USD')\n",
    "    \n",
    "    def brl(self):\n",
    "        \"\"\"Возвращает курс бразильского реала на сегодня в формате self.format\"\"\"\n",
    "        return self.make_format('BRL')"
   ]
  },
  {
   "cell_type": "code",
   "execution_count": 26,
   "metadata": {},
   "outputs": [
    {
     "name": "stdout",
     "output_type": "stream",
     "text": [
      "74.4373\n",
      "74.0448\n",
      "{'ID': 'R01235', 'NumCode': '840', 'CharCode': 'USD', 'Nominal': 1, 'Name': 'Доллар США', 'Value': 74.0448, 'Previous': 74.4373}\n"
     ]
    }
   ],
   "source": [
    "variable_1 = Rate(\"value\",True)\n",
    "print(variable_1.usd())\n",
    "\n",
    "variable_2 = Rate(\"value\")\n",
    "print(variable_2.usd())\n",
    "\n",
    "variable_3 = Rate(\"full\",True)\n",
    "print(variable_3.usd())"
   ]
  },
  {
   "cell_type": "markdown",
   "metadata": {},
   "source": [
    "## Задание 3:\n",
    "\n",
    "Напишите класс Designer, который учитывает количество международных премий. Подсказки в коде занятия в разделе “Домашнее задание задача 3”."
   ]
  },
  {
   "cell_type": "markdown",
   "metadata": {},
   "source": [
    "### Решение:"
   ]
  },
  {
   "cell_type": "code",
   "execution_count": 2,
   "metadata": {},
   "outputs": [],
   "source": [
    "class Employee:\n",
    "    def __init__(self, name, seniority):\n",
    "        self.name = name\n",
    "        self.seniority = seniority\n",
    "        \n",
    "        self.grade = 1\n",
    "    \n",
    "    def grade_up(self):\n",
    "        \"\"\"Повышает уровень сотрудника\"\"\"\n",
    "        self.grade += 1\n",
    "    \n",
    "    def publish_grade(self):\n",
    "        \"\"\"Публикация результатов аккредитации сотрудников\"\"\"\n",
    "        print(self.name, self.grade)\n",
    "    \n",
    "    def check_if_it_is_time_for_upgrade(self):\n",
    "        pass"
   ]
  },
  {
   "cell_type": "code",
   "execution_count": 3,
   "metadata": {},
   "outputs": [],
   "source": [
    "class Designer(Employee):\n",
    "    def __init__(self, name, seniority, prizes = 2):\n",
    "        super().__init__(name, seniority)\n",
    "        self.prizes = prizes\n",
    "        \n",
    "        \n",
    "    def check_prizes(self):\n",
    "        self.seniority +=1\n",
    "        self.prizes -= 0.5     \n",
    "         \n",
    "    \n",
    "    def check_if_it_is_time_for_upgrade(self):\n",
    "        # для каждой аккредитации увеличиваем счетчик на 1\n",
    "        # пока считаем, что все разработчики проходят аккредитацию\n",
    "        self.seniority += 1\n",
    "        \n",
    "        if self.prizes == 0:\n",
    "            if self.seniority % 7== 0:\n",
    "                self.grade_up()\n",
    "        \n",
    "        else:\n",
    "            while self.prizes !=0:\n",
    "                self.check_prizes()\n",
    "                if self.seniority % 7== 0:\n",
    "                    self.grade_up()\n",
    "                \n",
    "       \n",
    "        \n",
    "        return self.publish_grade()"
   ]
  },
  {
   "cell_type": "code",
   "execution_count": 4,
   "metadata": {},
   "outputs": [
    {
     "name": "stdout",
     "output_type": "stream",
     "text": [
      "Карл Лагерфельд 2\n",
      "Карл Лагерфельд 2\n",
      "Карл Лагерфельд 2\n",
      "Карл Лагерфельд 2\n",
      "Карл Лагерфельд 3\n",
      "Карл Лагерфельд 3\n",
      "Карл Лагерфельд 3\n",
      "Карл Лагерфельд 3\n",
      "Карл Лагерфельд 3\n",
      "Карл Лагерфельд 3\n",
      "Карл Лагерфельд 3\n",
      "Карл Лагерфельд 4\n",
      "Карл Лагерфельд 4\n",
      "Карл Лагерфельд 4\n",
      "Карл Лагерфельд 4\n",
      "Карл Лагерфельд 4\n",
      "Карл Лагерфельд 4\n",
      "Карл Лагерфельд 4\n",
      "Карл Лагерфельд 5\n",
      "Карл Лагерфельд 5\n",
      "Карл Лагерфельд 5\n",
      "Карл Лагерфельд 5\n",
      "Карл Лагерфельд 5\n",
      "Карл Лагерфельд 5\n",
      "Карл Лагерфельд 5\n"
     ]
    }
   ],
   "source": [
    "Lagerfeld = Designer(\"Карл Лагерфельд\", 5)\n",
    "\n",
    "for i in range(25):\n",
    "    Lagerfeld.check_if_it_is_time_for_upgrade()\n",
    "    "
   ]
  },
  {
   "cell_type": "code",
   "execution_count": 15,
   "metadata": {},
   "outputs": [
    {
     "data": {
      "text/plain": [
       "1"
      ]
     },
     "execution_count": 15,
     "metadata": {},
     "output_type": "execute_result"
    }
   ],
   "source": [
    "7//7"
   ]
  }
 ],
 "metadata": {
  "kernelspec": {
   "display_name": "Python 3",
   "language": "python",
   "name": "python3"
  },
  "language_info": {
   "codemirror_mode": {
    "name": "ipython",
    "version": 3
   },
   "file_extension": ".py",
   "mimetype": "text/x-python",
   "name": "python",
   "nbconvert_exporter": "python",
   "pygments_lexer": "ipython3",
   "version": "3.8.5"
  }
 },
 "nbformat": 4,
 "nbformat_minor": 4
}
