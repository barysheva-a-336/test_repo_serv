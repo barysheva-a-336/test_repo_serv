{
 "cells": [
  {
   "cell_type": "markdown",
   "metadata": {},
   "source": [
    "## Задание 1\n",
    "\n",
    "Напишите функцию, которая принимает на вход строку и проверяет является ли она валидным транспортным номером (1 буква, 3 цифры, 2 буквы, 2-3 цифры). Обратите внимание, что не все буквы кириллического алфавита используются в транспортных номерах.\n",
    "\n",
    "Если номер валиден, то функция должна возвращать отдельно номер и регион.\n",
    "\n",
    "Примеры работы программы:\n",
    "\n",
    "car_id = 'А222ВС96’  \n",
    "Результат: Номер А222ВС валиден. Регион: 96\n",
    "\n",
    "car_id = 'АБ22ВВ193’  \n",
    "Результат: Номер не валиден"
   ]
  },
  {
   "cell_type": "code",
   "execution_count": 18,
   "metadata": {},
   "outputs": [
    {
     "name": "stdout",
     "output_type": "stream",
     "text": [
      "Write a vehicle id: А222ВС97\n",
      "Номер А222ВС валиден. Регион: 97\n"
     ]
    }
   ],
   "source": [
    "import re\n",
    "\n",
    "def car_number_validity(value):\n",
    "    number = re.search(r\"([АВЕКМНОРСТУХ]\\d\\d\\d[АВЕКМНОРСТУХ]{2})(\\d{2,3})\", value)\n",
    "    if number:\n",
    "        return number\n",
    "    else:\n",
    "        return\n",
    "\n",
    "checked_value = input(\"Write a vehicle id: \")\n",
    "result = car_number_validity(checked_value)\n",
    "if result:\n",
    "    print(\"Номер {} валиден. Регион: {}\".format(result.group(1), result.group(2)))\n",
    "else:\n",
    "    print(\"Номер {} не валиден\".format(checked_value))"
   ]
  },
  {
   "cell_type": "markdown",
   "metadata": {},
   "source": [
    "## Задание 2\n",
    "\n",
    "Напишите функцию, которая будет удалять все последовательные повторы слов из заданной строки при помощи регулярных выражений.\n",
    "\n",
    "Пример работы программы:\n",
    "\n",
    "some_string = ‘Напишите функцию функцию, которая будет будет будет будет удалять все все все все последовательные повторы слов из из из из заданной строки строки при помощи регулярных выражений’\n",
    "\n",
    "Результат: Напишите функцию, которая будет удалять все последовательные повторы слов из заданной строки при помощи регулярных выражений."
   ]
  },
  {
   "cell_type": "code",
   "execution_count": 81,
   "metadata": {},
   "outputs": [
    {
     "name": "stdout",
     "output_type": "stream",
     "text": [
      "Напишите функцию, которая будет удалять все последовательные повторы слов из заданной строки при помощи регулярных выражений\n"
     ]
    }
   ],
   "source": [
    "def delete_doubling(incoming_text):\n",
    "    return re.sub(r\"(\\s\\w+.)\\1+\", r\"\\1\", incoming_text)\n",
    "\n",
    "\n",
    "some_string = \"Напишите функцию функцию, которая будет будет будет будет удалять все все все все последовательные повторы слов из из из из заданной строки строки при помощи регулярных выражений\"\n",
    "#some_string = input(\"Введите текст: \")\n",
    "right_string = delete_doubling(some_string)\n",
    "print(right_string)"
   ]
  },
  {
   "cell_type": "markdown",
   "metadata": {},
   "source": [
    "## Задание 3\n",
    "\n",
    "Напишите функцию, которая будет возвращать акроним по переданной в нее строке со словами.\n",
    "\n",
    "Примеры работы программы:\n",
    "\n",
    "some_words = 'Информационные технологии’  \n",
    "Результат: ИТ\n",
    "\n",
    "some_words = 'Near Field Communication’  \n",
    "Результат: NFC"
   ]
  },
  {
   "cell_type": "code",
   "execution_count": 54,
   "metadata": {},
   "outputs": [
    {
     "name": "stdout",
     "output_type": "stream",
     "text": [
      "Введите строку:    Art Fo Life\n",
      "AFL\n"
     ]
    }
   ],
   "source": [
    "def create_akronim(original_phrase):\n",
    "    result =  re.findall(r\"\\b\\w\",original_phrase)\n",
    "    return \"\".join(result).upper()\n",
    "    \n",
    "    \n",
    "phrase = input(\"Введите строку: \")\n",
    "result = create_akronim(phrase)\n",
    "print(result)"
   ]
  },
  {
   "cell_type": "markdown",
   "metadata": {},
   "source": [
    "## Задание 4\n",
    "\n",
    "Напишите функцию, которая будет принимать на вход список email-адресов и выводить их распределение по доменным зонам.\n",
    "\n",
    "Пример работы программы:\n",
    "\n",
    "emails = [test@gmail.com, xyz@test.in, test@ya.ru, xyz@mail.ru, xyz@ya.ru, xyz@gmail.com]\n",
    "\n",
    "Результат:\n",
    "\n",
    "gmail.com: 2    \n",
    "test.in: 1   \n",
    "ya.ru: 2   \n",
    "mail.ru: 1   "
   ]
  },
  {
   "cell_type": "code",
   "execution_count": 63,
   "metadata": {},
   "outputs": [
    {
     "name": "stdout",
     "output_type": "stream",
     "text": [
      "{'gmail.com': 2, 'test.in': 1, 'ya.ru': 2, 'mail.ru': 1}\n"
     ]
    }
   ],
   "source": [
    "def check_domains(email_list):\n",
    "    domain_count = {}\n",
    "    for i in email_list:\n",
    "        domain = re.findall(r\"(?<=\\@)\\w+.\\w+\", i)\n",
    "        if domain[0] in domain_count:\n",
    "            domain_count[domain[0]] += 1\n",
    "        else:\n",
    "            domain_count[domain[0]] = 1\n",
    "    print(domain_count)\n",
    "    return\n",
    "        \n",
    "\n",
    "emails = ['test@gmail.com', 'xyz@test.in', 'test@ya.ru', 'xyz@mail.ru', 'xyz@ya.ru', 'xyz@gmail.com']\n",
    "check_domains(emails)"
   ]
  },
  {
   "cell_type": "markdown",
   "metadata": {},
   "source": [
    "## Задание 5 (необязательное)\n",
    "\n",
    "Напишите функцию, которая будет подсчитывать сколько слов начинается на гласные, а сколько на согласные буквы в тексте (текст может быть написан как с использованием букв кириллицы, так и латиницы).\n",
    "\n",
    "Пример работы программы:\n",
    "\n",
    "some_text = ‘Эталонной реализацией Python является интерпретатор CPython, поддерживающий большинство активно используемых платформ. Он распространяется под свободной лицензией Python Software Foundation License, позволяющей использовать его без ограничений в любых приложениях, включая проприетарные.’\n",
    "\n",
    "Результат:\n",
    "\n",
    "Слов на гласные буквы: 9  \n",
    "Слов на согласные буквы: 21  "
   ]
  },
  {
   "cell_type": "code",
   "execution_count": 74,
   "metadata": {},
   "outputs": [
    {
     "name": "stdout",
     "output_type": "stream",
     "text": [
      "Слов на гласные буквы:  9\n",
      "Слов на согласные буквы:  21\n"
     ]
    }
   ],
   "source": [
    "def encounter_words(text):\n",
    "    vowels = re.findall(r\"(?i)\\b[aeiouyаеёиоуэюя]\\w+\", text)\n",
    "    consonants = re.findall(r\"(?i)\\b[^aeiouyаеёиоуэюя \\.,:]\\w*\", text)\n",
    "    print(\"Слов на гласные буквы: \", len(vowels))\n",
    "    print(\"Слов на согласные буквы: \", len(consonants))\n",
    "    return\n",
    "\n",
    "text_for_encounting = \"Эталонной реализацией Python является интерпретатор CPython, поддерживающий большинство активно используемых платформ. Он распространяется под свободной лицензией Python Software Foundation License, позволяющей использовать его без ограничений в любых приложениях, включая проприетарные.\"\n",
    "encounter_words(text_for_encounting)"
   ]
  }
 ],
 "metadata": {
  "kernelspec": {
   "display_name": "Python 3",
   "language": "python",
   "name": "python3"
  },
  "language_info": {
   "codemirror_mode": {
    "name": "ipython",
    "version": 3
   },
   "file_extension": ".py",
   "mimetype": "text/x-python",
   "name": "python",
   "nbconvert_exporter": "python",
   "pygments_lexer": "ipython3",
   "version": "3.8.5"
  }
 },
 "nbformat": 4,
 "nbformat_minor": 4
}
