{
 "cells": [
  {
   "cell_type": "markdown",
   "metadata": {},
   "source": [
    "## Задание 1\n",
    "Дана переменная, в которой хранится слово из латинских букв. Напишите код, который выводит на экран:\n",
    "\n",
    "среднюю букву, если число букв в слове нечетное;\n",
    "две средних буквы, если число букв четное.\n",
    "Примеры работы программы:\n",
    "\n",
    "word = 'test'\n",
    "\n",
    "Результат:\n",
    "es\n",
    "\n",
    "word = 'testing'\n",
    "\n",
    "Результат:\n",
    "t"
   ]
  },
  {
   "cell_type": "markdown",
   "metadata": {},
   "source": [
    "### Решение: "
   ]
  },
  {
   "cell_type": "code",
   "execution_count": 27,
   "metadata": {},
   "outputs": [
    {
     "name": "stdout",
     "output_type": "stream",
     "text": [
      "еуыеы\n",
      "Результат:  ы\n"
     ]
    }
   ],
   "source": [
    "word = input()\n",
    "lenght_w = len(word)\n",
    "print(\"Результат: \",\n",
    "      word[ (lenght_w-1)//2:((lenght_w//2) + 1) ]\n",
    "     )"
   ]
  },
  {
   "cell_type": "markdown",
   "metadata": {},
   "source": [
    "## Задание 2\n",
    "Напишите программу, которая последовательно запрашивает у пользователя числа (по одному за раз) и после первого нуля выводит сумму всех ранее введенных чисел.\n",
    "\n",
    "Примеры работы программы:\n",
    "\n",
    "Введите число:  \n",
    "1\n",
    "\n",
    "Введите число:  \n",
    "4\n",
    "\n",
    "Введите число:  \n",
    "6\n",
    "\n",
    "Введите число:  \n",
    "0\n",
    "\n",
    "Результат:\n",
    "11\n",
    "\n",
    "Введите число:  \n",
    "0\n",
    "\n",
    "Результат:\n",
    "0"
   ]
  },
  {
   "cell_type": "markdown",
   "metadata": {},
   "source": [
    "### Решение:"
   ]
  },
  {
   "cell_type": "code",
   "execution_count": 46,
   "metadata": {},
   "outputs": [
    {
     "name": "stdout",
     "output_type": "stream",
     "text": [
      "Введите число: 0\n",
      "Результат:  0\n"
     ]
    }
   ],
   "source": [
    "number = int(input(\"Введите число: \"))\n",
    "number_sum = 0\n",
    "while number!=0:\n",
    "    number_sum += number\n",
    "    number = int(input(\"Введите число: \"))\n",
    "print(\"Результат: \", number_sum)"
   ]
  },
  {
   "cell_type": "markdown",
   "metadata": {},
   "source": [
    "## Задание 3\n",
    "Мы делаем MVP dating-сервиса, и у нас есть список парней и девушек.\n",
    "Выдвигаем гипотезу: лучшие рекомендации мы получим, если просто отсортируем имена по алфавиту и познакомим людей с одинаковыми индексами после сортировки! Но мы не будем никого знакомить, если кто-то может остаться без пары\n",
    "\n",
    "Примеры работы программы:\n",
    "\n",
    "boys = ['Peter', 'Alex', 'John', 'Arthur', 'Richard']\n",
    "\n",
    "girls = ['Kate', 'Liza', 'Kira', 'Emma', 'Trisha']\n",
    "\n",
    "Результат:\n",
    "\n",
    "Идеальные пары: \n",
    "\n",
    "Alex и Emma  \n",
    "Arthur и Kate  \n",
    "John и Kira  \n",
    "Peter и Liza  \n",
    "Richard и Trisha\n",
    "\n",
    "boys = ['Peter', 'Alex', 'John', 'Arthur', 'Richard', 'Michael']  \n",
    "girls = ['Kate', 'Liza', 'Kira', 'Emma', 'Trisha']\n",
    "\n",
    "Результат:\n",
    "Внимание, кто-то может остаться без пары!"
   ]
  },
  {
   "cell_type": "markdown",
   "metadata": {},
   "source": [
    "### Решение:"
   ]
  },
  {
   "cell_type": "code",
   "execution_count": 31,
   "metadata": {},
   "outputs": [
    {
     "name": "stdout",
     "output_type": "stream",
     "text": [
      "Введите имена парней через пробел: Al Edward Kristian Brow Eye\n",
      "Введите имена девушек через пробел: Kate Liza Kira Emma Trisha\n",
      "Идеальные пары:\n",
      "Al Emma\n",
      "Brow Kate\n",
      "Edward Kira\n",
      "Eye Liza\n",
      "Kristian Trisha\n"
     ]
    }
   ],
   "source": [
    "boys = list(input (\"Введите имена парней через пробел: \").split(\" \"))\n",
    "girls = list(input (\"Введите имена девушек через пробел: \").split(\" \"))\n",
    "if(len(boys)==len(girls)):\n",
    "    boys.sort()\n",
    "    girls.sort()\n",
    "    final = zip(boys, girls)\n",
    "    print(\"Идеальные пары:\")\n",
    "    for i in final:\n",
    "        print(*i, sep=\" \")\n",
    "else:\n",
    "    print(\"Внимание, кто-то может остаться без пары!\")"
   ]
  },
  {
   "cell_type": "markdown",
   "metadata": {},
   "source": [
    "## Задание 4\n",
    "У нас есть список, содержащий информацию о среднедневной температуре в Фаренгейтах за произвольный период по странам (структура данных в примере). Необходимо написать код, который рассчитает среднюю температуру за период в Цельсиях(!) для каждой страны.\n",
    "\n",
    "Пример работы программы:\n",
    "\n",
    "countries_temperature = [\n",
    "    ['Thailand', [75.2, 77, 78.8, 73.4, 68, 75.2, 77]],  \n",
    "    ['Germany', [57.2, 55.4, 59, 59, 53.6]],  \n",
    "    ['Russia', [35.6, 37.4, 39.2, 41, 42.8, 39.2, 35.6]],  \n",
    "    ['Poland', [50, 50, 53.6, 57.2, 55.4, 55.4]]  \n",
    "]\n",
    "Результат:  \n",
    "\n",
    "Средняя температура в странах:  \n",
    "Thailand  -  23.9 С  \n",
    "Germany  -  13.8 С  \n",
    "Russia  -  3.7 С  \n",
    "Poland  -  12.0 С  "
   ]
  },
  {
   "cell_type": "markdown",
   "metadata": {},
   "source": [
    "### Решение:"
   ]
  },
  {
   "cell_type": "code",
   "execution_count": 89,
   "metadata": {},
   "outputs": [
    {
     "name": "stdout",
     "output_type": "stream",
     "text": [
      "Thailand - 23.9 C\n",
      "Germany - 13.8 C\n",
      "Russia - 3.7 C\n",
      "Poland - 12.0 C\n"
     ]
    }
   ],
   "source": [
    "countries_temperature = [ \n",
    "    ['Thailand', [75.2, 77, 78.8, 73.4, 68, 75.2, 77]],\n",
    "    ['Germany', [57.2, 55.4, 59, 59, 53.6]],\n",
    "    ['Russia', [35.6, 37.4, 39.2, 41, 42.8, 39.2, 35.6]],\n",
    "    ['Poland', [50, 50, 53.6, 57.2, 55.4, 55.4]]\n",
    "] \n",
    "for i in countries_temperature:\n",
    "    aver_cels = sum(i[1])/len(i[1])\n",
    "    aver_fareng = (aver_cels - 32)/1.8\n",
    "    print(i[0], \"-\", round(aver_fareng,1), \"C\")"
   ]
  },
  {
   "cell_type": "markdown",
   "metadata": {},
   "source": [
    "## Задание 5 (необязательное)\n",
    "Дан поток логов по количеству просмотренных страниц для каждого пользователя. Вам необходимо написать алгоритм, который считает среднее значение просмотров на пользователя. Т. е. надо посчитать отношение суммы всех просмотров к количеству уникальных пользователей.\n",
    "\n",
    "Примеры работы программы:\n",
    "\n",
    "stream = [\n",
    "‘2018-01-01,user1,3’,  \n",
    "‘2018-01-07,user1,4’,  \n",
    "‘2018-03-29,user1,1’,  \n",
    "‘2018-04-04,user1,13’,  \n",
    "‘2018-01-05,user2,7’,  \n",
    "‘2018-06-14,user3,4’,  \n",
    "‘2018-07-02,user3,10’,  \n",
    "‘2018-03-21,user4,19’,  \n",
    "‘2018-03-22,user4,4’,  \n",
    "‘2018-04-22,user4,8’,  \n",
    "‘2018-05-03,user4,9’,  \n",
    "‘2018-05-11,user4,11’,  \n",
    "]  \n",
    "\n",
    "Результат:  \n",
    "Среднее количество просмотров на уникального пользователя: 23.25  \n",
    "\n",
    "stream = [\n",
    "‘2018-01-01,user100,150’,  \n",
    "‘2018-01-07,user99,205’,  \n",
    "‘2018-03-29,user1001,81’  \n",
    "]  \n",
    "\n",
    "Результат:  \n",
    "Среднее количество просмотров на уникального пользователя: 145.33  "
   ]
  },
  {
   "cell_type": "markdown",
   "metadata": {},
   "source": [
    "### Решение:"
   ]
  },
  {
   "cell_type": "code",
   "execution_count": 32,
   "metadata": {},
   "outputs": [
    {
     "name": "stdout",
     "output_type": "stream",
     "text": [
      "Среднее количество просмотров на уникального пользователя:  23.25\n"
     ]
    }
   ],
   "source": [
    "stream = [ \n",
    "    '2018-01-01,user1,3',\n",
    "    '2018-01-07,user1,4',\n",
    "    '2018-03-29,user1,1',\n",
    "    '2018-04-04,user1,13',\n",
    "    '2018-01-05,user2,7',\n",
    "    '2018-06-14,user3,4',\n",
    "    '2018-07-02,user3,10',\n",
    "    '2018-03-21,user4,19',\n",
    "    '2018-03-22,user4,4',\n",
    "    '2018-04-22,user4,8',\n",
    "    '2018-05-03,user4,9',\n",
    "    '2018-05-11,user4,11',\n",
    "]\n",
    "'''stream = [\n",
    "    '2018-01-01,user100,150',\n",
    "    '2018-01-07,user99,205',\n",
    "    '2018-03-29,user1001,81'\n",
    "]'''\n",
    "\n",
    "total, unique_users = 0, set()\n",
    "stream_matrix = [(i.split(',')) for i in stream]\n",
    "\n",
    "for i in stream_matrix:\n",
    "    total += int(i[2])\n",
    "    unique_users.add(i[1])\n",
    "    \n",
    "print(\"Среднее количество просмотров на уникального пользователя: \", round(total/len(unique_users),2))"
   ]
  },
  {
   "cell_type": "markdown",
   "metadata": {},
   "source": [
    "### Задание 6 (необязательное)\n",
    "\n",
    "Необходимо у пользователя запрашивать набор чисел разделенных пробелом. В результате должны выводиться числа, которые повторяются в вводе более одного раза.\n",
    "\n",
    "Примеры работы программы:\n",
    "\n",
    "Введите числа:  \n",
    "4 8 0 3 4 2 0 3  \n",
    "Результат:  \n",
    "0 3 4  \n",
    "\n",
    "Введите числа:  \n",
    "1 1 2 2 3 3  \n",
    "Результат:  \n",
    "1 2 3  \n",
    "\n",
    "Введите числа:  \n",
    "1 1 1 1 1 2 2 2  \n",
    "Результат:  \n",
    "1 2  "
   ]
  },
  {
   "cell_type": "markdown",
   "metadata": {},
   "source": [
    "### Решение:"
   ]
  },
  {
   "cell_type": "code",
   "execution_count": 48,
   "metadata": {},
   "outputs": [
    {
     "name": "stdout",
     "output_type": "stream",
     "text": [
      "Введите числа: 1 2 2 3 3\n",
      "Результат:  3 2\n"
     ]
    }
   ],
   "source": [
    "repeated_numbers = set()\n",
    "numbers = list(input(\"Введите числа: \").split(' '))\n",
    "\n",
    "for i in numbers:\n",
    "    if (numbers.count(i) > 1) and (i not in repeated_numbers):\n",
    "        repeated_numbers.add(i)\n",
    "    else:\n",
    "        continue\n",
    "if len(repeated_numbers)==0:\n",
    "    print(\"Нет повторяющихся чисел!\")\n",
    "else:\n",
    "    print(\"Результат: \", *repeated_numbers)"
   ]
  }
 ],
 "metadata": {
  "kernelspec": {
   "display_name": "Python 3",
   "language": "python",
   "name": "python3"
  },
  "language_info": {
   "codemirror_mode": {
    "name": "ipython",
    "version": 3
   },
   "file_extension": ".py",
   "mimetype": "text/x-python",
   "name": "python",
   "nbconvert_exporter": "python",
   "pygments_lexer": "ipython3",
   "version": "3.8.5"
  }
 },
 "nbformat": 4,
 "nbformat_minor": 4
}
