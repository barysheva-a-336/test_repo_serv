{
 "cells": [
  {
   "cell_type": "code",
   "execution_count": 6,
   "metadata": {},
   "outputs": [
    {
     "data": {
      "text/plain": [
       "array([14,  8, 10, 10, 13,  8, 14])"
      ]
     },
     "execution_count": 6,
     "metadata": {},
     "output_type": "execute_result"
    }
   ],
   "source": [
    "import numpy as np\n",
    "\n",
    "np.random.randint(4,15,7)"
   ]
  },
  {
   "cell_type": "code",
   "execution_count": 124,
   "metadata": {},
   "outputs": [
    {
     "name": "stdout",
     "output_type": "stream",
     "text": [
      "820\n",
      "150\n",
      "200\n",
      "200\n",
      "57\n",
      "Моделируемое значение: -0.6, \n",
      "Расчитанное значение: -0.155\n",
      "Wall time: 3.11 ms\n"
     ]
    }
   ],
   "source": [
    "%%time\n",
    "n = 20\n",
    "gain = 0\n",
    "price = 0\n",
    "rates_dict = {1000:\n",
    "              {\n",
    "                  777:200,\n",
    "                  999:100,\n",
    "                  555:50,\n",
    "                  333:15,\n",
    "                  111:10\n",
    "                   },\n",
    "             100:\n",
    "              {\n",
    "                  77:5,\n",
    "                  0:2\n",
    "             },\n",
    "              10: {\n",
    "                  7:3,\n",
    "                  0:1\n",
    "              }\n",
    "             }\n",
    "\n",
    "\n",
    "for i in range(n):\n",
    "    price +=1\n",
    "    value = np.random.randint(0, 1000)\n",
    "    for i in rates_dict:\n",
    "        if value%i in rates_dict[i].keys():\n",
    "            print(value)\n",
    "            gain += rates_dict[i][value%i]\n",
    "\n",
    "#считаем моделируемое знач прибыли игрока за игру, как (общий выигрыш - стоимость всех игр)/количество игр\n",
    "result_per_game = (gain-price)/n\n",
    "\n",
    "#cчитаем теоритическую среднюю прибыль игрока\n",
    "result_theoretical = round(round(0.001 * 200 + 0.001 * 100 + 0.001 * 50 + 0.001 * 15 + 0.001 * 10 + 0.01 * 5 + 0.1 * 3 + 0.01 * 2 + 0.1 * 1, 3) - 1, 3)\n",
    "\n",
    "print (\"Моделируемое значение: {}, \\nРасчитанное значение: {}\".format(result_per_game, result_theoretical))"
   ]
  }
 ],
 "metadata": {
  "kernelspec": {
   "display_name": "Python 3",
   "language": "python",
   "name": "python3"
  },
  "language_info": {
   "codemirror_mode": {
    "name": "ipython",
    "version": 3
   },
   "file_extension": ".py",
   "mimetype": "text/x-python",
   "name": "python",
   "nbconvert_exporter": "python",
   "pygments_lexer": "ipython3",
   "version": "3.8.5"
  }
 },
 "nbformat": 4,
 "nbformat_minor": 4
}
