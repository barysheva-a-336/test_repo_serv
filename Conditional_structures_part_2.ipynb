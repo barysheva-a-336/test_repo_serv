{
 "cells": [
  {
   "cell_type": "markdown",
   "metadata": {},
   "source": [
    "## Задание 1\n",
    "Дана переменная, в которой хранится словарь, содержащий гео-метки для каждого пользователя (пример структуры данных приведен ниже). Вам необходимо написать программу, которая выведет на экран множество уникальных гео-меток всех пользователей.\n",
    "\n",
    "Пример работы программы:\n",
    "\n",
    "ids = {'user1': [213, 213, 213, 15, 213],  \n",
    "       'user2': [54, 54, 119, 119, 119],   \n",
    "       'user3': [213, 98, 98, 35]}  \n",
    "Результат: {98, 35, 15, 213, 54, 119}"
   ]
  },
  {
   "cell_type": "markdown",
   "metadata": {},
   "source": [
    "### Решение:"
   ]
  },
  {
   "cell_type": "code",
   "execution_count": 75,
   "metadata": {},
   "outputs": [
    {
     "name": "stdout",
     "output_type": "stream",
     "text": [
      "Результат: {98, 35, 15, 213, 54, 119}\n"
     ]
    }
   ],
   "source": [
    "ids = {\n",
    "    'user1': [213, 213, 213, 15, 213],\n",
    "    'user2': [54, 54, 119, 119, 119],\n",
    "    'user3': [213, 98, 98, 35]\n",
    "}\n",
    "\n",
    "user_geotags = set(sum(ids.values(),[]))\n",
    "print(\"Результат:\", user_geotags)\n"
   ]
  },
  {
   "cell_type": "markdown",
   "metadata": {},
   "source": [
    "## Задание 2\n",
    "Дана переменная, в которой хранится список поисковых запросов пользователя (пример структуры данных приведен ниже). Вам необходимо написать программу, которая выведет на экран распределение количества слов в запросах в требуемом виде.\n",
    "\n",
    "Пример работы программы:\n",
    "\n",
    "queries = [  \n",
    "    'смотреть сериалы онлайн',  \n",
    "    'новости спорта',  \n",
    "    'афиша кино',  \n",
    "    'курс доллара',  \n",
    "    'сериалы этим летом',  \n",
    "    'курс по питону',  \n",
    "    'сериалы про спорт',  \n",
    "]  \n",
    "Результат:\n",
    "\n",
    "Поисковых запросов, содержащих 2 слов(а): 42.86%  \n",
    "Поисковых запросов, содержащих 3 слов(а): 57.14%"
   ]
  },
  {
   "cell_type": "markdown",
   "metadata": {},
   "source": [
    "### Решение:"
   ]
  },
  {
   "cell_type": "code",
   "execution_count": 31,
   "metadata": {},
   "outputs": [
    {
     "name": "stdout",
     "output_type": "stream",
     "text": [
      "Поисковых запросов, содержащих 2 слов(а): 42.86 %\n",
      "Поисковых запросов, содержащих 3 слов(а): 57.14 %\n"
     ]
    }
   ],
   "source": [
    "queries = [\n",
    "    'смотреть сериалы онлайн',\n",
    "    'новости спорта',\n",
    "    'афиша кино',\n",
    "    'курс доллара',\n",
    "    'сериалы этим летом',\n",
    "    'курс по питону',\n",
    "    'сериалы про спорт',\n",
    "] \n",
    "queries_numb = len (queries)\n",
    "two_word_queries_numb = len([i for i in queries if (len(i.split(\" \")) == 2)])\n",
    "three_word_quesries_numb = len([i for i in queries if (len(i.split(\" \")) == 3)])\n",
    "print(\"Поисковых запросов, содержащих 2 слов(а):\", round(two_word_queries_numb * 100 /queries_numb,2), \"%\")\n",
    "print(\"Поисковых запросов, содержащих 3 слов(а):\", round(three_word_quesries_numb * 100 /queries_numb,2), \"%\")"
   ]
  },
  {
   "cell_type": "markdown",
   "metadata": {},
   "source": [
    "## Задание 3\n",
    "\n",
    "Дана переменная, в которой хранится информация о затратах и доходе рекламных кампаний по различным источникам. Необходимо дополнить исходную структуру показателем ROI, который рассчитаем по формуле: (revenue / cost - 1) * 100\n",
    "\n",
    "Пример работы программы:\n",
    "\n",
    "results = {  \n",
    "‘vk’: {‘revenue’: 103, ‘cost’: 98},  \n",
    "‘yandex’: {‘revenue’: 179, ‘cost’: 153},  \n",
    "‘facebook’: {‘revenue’: 103, ‘cost’: 110},  \n",
    "‘adwords’: {‘revenue’: 35, ‘cost’: 34},  \n",
    "‘twitter’: {‘revenue’: 11, ‘cost’: 24},  \n",
    "}\n",
    "\n",
    "Результат:\n",
    "\n",
    "{‘adwords’: {‘ROI’: 2.94, ‘cost’: 34, ‘revenue’: 35},  \n",
    "‘facebook’: {‘ROI’: -6.36, ‘cost’: 110, ‘revenue’: 103},  \n",
    "‘twitter’: {‘ROI’: -54.17, ‘cost’: 24, ‘revenue’: 11},  \n",
    "‘vk’: {‘ROI’: 5.1, ‘cost’: 98, ‘revenue’: 103},  \n",
    "‘yandex’: {‘ROI’: 16.99, ‘cost’: 153, ‘revenue’: 179}}  "
   ]
  },
  {
   "cell_type": "markdown",
   "metadata": {},
   "source": [
    "### Решение:"
   ]
  },
  {
   "cell_type": "code",
   "execution_count": 105,
   "metadata": {},
   "outputs": [
    {
     "name": "stdout",
     "output_type": "stream",
     "text": [
      "adwords :{ ROI : 2.94 cost : 34 revenue : 35 }\n",
      "facebook :{ ROI : -6.36 cost : 110 revenue : 103 }\n",
      "twitter :{ ROI : -54.17 cost : 24 revenue : 11 }\n",
      "vk :{ ROI : 5.1 cost : 98 revenue : 103 }\n",
      "yandex :{ ROI : 16.99 cost : 153 revenue : 179 }\n"
     ]
    }
   ],
   "source": [
    "\"\"\"Мне не очень нравится реализиция, но я не понимаю, как вывести сортированный словарь, как в примере. \n",
    "Просто новое поле в словарь добавится, и т.к. словари неупорядоченные, то последовательность вывода будет неупорядоченная\"\"\"\n",
    "results = {\n",
    "'vk': {'revenue': 103, 'cost': 98},\n",
    "'yandex': {'revenue': 179, 'cost': 153},\n",
    "'facebook': {'revenue': 103, 'cost': 110},\n",
    "'adwords': {'revenue': 35, 'cost': 34},\n",
    "'twitter': {'revenue': 11, 'cost': 24},\n",
    "}\n",
    "for key in results.keys():\n",
    "    results[key][\"ROI\"] = round((results[key][\"revenue\"]/results[key][\"cost\"] - 1)*100, 2)\n",
    "for key in dict(sorted(results.items())):\n",
    "    print(key,\":{\", end=\" \")\n",
    "    for j in sorted(results[key]):\n",
    "        print(j,\":\",results[key][j], end = \" \")\n",
    "    print(\"}\")\n",
    "    "
   ]
  },
  {
   "cell_type": "markdown",
   "metadata": {},
   "source": [
    "## Задание 4\n",
    "Дана переменная, в которой хранится статистика рекламных каналов по объемам продаж (пример структуры данных приведен ниже). Напишите программу, которая возвращает название канала с максимальным объемом продаж.\n",
    "\n",
    "Пример работы программы:\n",
    "\n",
    "stats = {‘facebook’: 55, ‘yandex’: 115, ‘vk’: 120, ‘google’: 99, ‘email’: 42, ‘ok’: 98}\n",
    "\n",
    "Результат: Максимальный объем продаж на рекламном канале: vk"
   ]
  },
  {
   "cell_type": "markdown",
   "metadata": {},
   "source": [
    "### Решение:"
   ]
  },
  {
   "cell_type": "code",
   "execution_count": 118,
   "metadata": {},
   "outputs": [
    {
     "name": "stdout",
     "output_type": "stream",
     "text": [
      "Максимальный объем продаж на рекламном канале: vk\n"
     ]
    }
   ],
   "source": [
    "stats = {'facebook': 55, 'yandex': 115, 'vk': 120, 'google': 99, 'email': 42, 'ok': 98}\n",
    "max_volume = max(stats.values())\n",
    "channel_max = [k for k in stats.keys() if stats[k] == max_val]\n",
    "print(\"Максимальный объем продаж на рекламном канале:\",*channel_max )"
   ]
  }
 ],
 "metadata": {
  "kernelspec": {
   "display_name": "Python 3",
   "language": "python",
   "name": "python3"
  },
  "language_info": {
   "codemirror_mode": {
    "name": "ipython",
    "version": 3
   },
   "file_extension": ".py",
   "mimetype": "text/x-python",
   "name": "python",
   "nbconvert_exporter": "python",
   "pygments_lexer": "ipython3",
   "version": "3.8.5"
  }
 },
 "nbformat": 4,
 "nbformat_minor": 4
}
