{
 "cells": [
  {
   "cell_type": "code",
   "execution_count": 2,
   "metadata": {},
   "outputs": [],
   "source": [
    "import pandas as pd\n",
    "import numpy as np"
   ]
  },
  {
   "cell_type": "markdown",
   "metadata": {},
   "source": [
    "# Задание 1\n",
    "Скачайте с сайта https://grouplens.org/datasets/movielens/ датасет любого размера. Определите какому фильму было выставлено больше всего оценок 5.0."
   ]
  },
  {
   "cell_type": "code",
   "execution_count": 16,
   "metadata": {},
   "outputs": [
    {
     "name": "stdout",
     "output_type": "stream",
     "text": [
      "Movie with the highest score:   Shawshank Redemption, The (1994)\n"
     ]
    }
   ],
   "source": [
    "ratings_df = pd.read_csv(\"ml-latest-small/ratings.csv\")\n",
    "\n",
    "max_rated_movies = ratings_df[ ratings_df[\"rating\"] == 5.0 ]\n",
    "id_max_rated_movie = max_rated_movies[\"movieId\"].value_counts().idxmax()\n",
    "\n",
    "movies_df = pd.read_csv(\"ml-latest-small/movies.csv\")\n",
    "max_rated_movie = movies_df [ movies_df[\"movieId\"] == id_max_rated_movie][\"title\"].values[0]\n",
    "\n",
    "print(\"Movie with the highest score:  \", max_rated_movie)"
   ]
  },
  {
   "cell_type": "markdown",
   "metadata": {},
   "source": [
    "# Задание 2\n",
    "По данным файла power.csv посчитайте суммарное потребление стран Прибалтики (Латвия, Литва и Эстония) категорий 4, 12 и 21 за период с 2005 по 2010 года. Не учитывайте в расчетах отрицательные значения quantity."
   ]
  },
  {
   "cell_type": "code",
   "execution_count": 18,
   "metadata": {},
   "outputs": [
    {
     "name": "stdout",
     "output_type": "stream",
     "text": [
      "Суммарное потребление стран Прибалтики категорий 4, 12 и 21 за период с 2005 по 2010 года:  240580.0\n"
     ]
    }
   ],
   "source": [
    "power_df = pd.read_csv(\"10._Основы_pandas/power.csv\")\n",
    "total_electricity_consumption = power_df [ \n",
    "    (\n",
    "    (power_df[\"country\"] == \"Latvia\") | (power_df[\"country\"] == \"Lithuania\") | (power_df[\"country\"] == \"Estonia\")\n",
    "    ) \n",
    "    & (\n",
    "        (power_df[\"category\"] == 4) | (power_df[\"category\"] == 12) | (power_df[\"category\"] == 21)\n",
    "    ) \n",
    "    & ( power_df[\"year\"] >= 2005) \n",
    "    & (power_df[\"year\"] <= 2010) \n",
    "    & (power_df[\"quantity\"] >0 )][\"quantity\"].sum()\n",
    "\n",
    "print (\"Суммарное потребление стран Прибалтики категорий 4, 12 и 21 за период с 2005 по 2010 года: \", total_electricity_consumption)"
   ]
  },
  {
   "cell_type": "markdown",
   "metadata": {},
   "source": [
    "# Задание 3\n",
    "Выберите страницу любого сайта с табличными данными. Импортируйте таблицы в pandas dataframe.\n",
    "Примеры страниц (необязательно брать именно эти):  \n",
    "https://fortrader.org/quotes  \n",
    "https://www.finanz.ru/valyuty/v-realnom-vremeni"
   ]
  },
  {
   "cell_type": "code",
   "execution_count": 16,
   "metadata": {},
   "outputs": [
    {
     "data": {
      "text/html": [
       "<div>\n",
       "<style scoped>\n",
       "    .dataframe tbody tr th:only-of-type {\n",
       "        vertical-align: middle;\n",
       "    }\n",
       "\n",
       "    .dataframe tbody tr th {\n",
       "        vertical-align: top;\n",
       "    }\n",
       "\n",
       "    .dataframe thead th {\n",
       "        text-align: right;\n",
       "    }\n",
       "</style>\n",
       "<table border=\"1\" class=\"dataframe\">\n",
       "  <thead>\n",
       "    <tr style=\"text-align: right;\">\n",
       "      <th></th>\n",
       "      <th>Unnamed: 0</th>\n",
       "      <th>Рубль</th>\n",
       "      <th>Предложение</th>\n",
       "      <th>Спрос</th>\n",
       "      <th>Предыдущее закрытие</th>\n",
       "      <th>%</th>\n",
       "      <th>Абсолютное значение</th>\n",
       "      <th>Время</th>\n",
       "    </tr>\n",
       "  </thead>\n",
       "  <tbody>\n",
       "    <tr>\n",
       "      <th>0</th>\n",
       "      <td>NaN</td>\n",
       "      <td>GBP/RUB</td>\n",
       "      <td>1049318</td>\n",
       "      <td>-</td>\n",
       "      <td>1037452</td>\n",
       "      <td>1,14 %</td>\n",
       "      <td>11866</td>\n",
       "      <td>00:28:00</td>\n",
       "    </tr>\n",
       "    <tr>\n",
       "      <th>1</th>\n",
       "      <td>NaN</td>\n",
       "      <td>EUR/RUB</td>\n",
       "      <td>903650</td>\n",
       "      <td>-</td>\n",
       "      <td>893140</td>\n",
       "      <td>1,18 %</td>\n",
       "      <td>10510</td>\n",
       "      <td>00:28:00</td>\n",
       "    </tr>\n",
       "    <tr>\n",
       "      <th>2</th>\n",
       "      <td>NaN</td>\n",
       "      <td>USD/RUB</td>\n",
       "      <td>763080</td>\n",
       "      <td>-</td>\n",
       "      <td>748417</td>\n",
       "      <td>1,96 %</td>\n",
       "      <td>14663</td>\n",
       "      <td>00:28:00</td>\n",
       "    </tr>\n",
       "    <tr>\n",
       "      <th>3</th>\n",
       "      <td>NaN</td>\n",
       "      <td>JPY/RUB</td>\n",
       "      <td>07022</td>\n",
       "      <td>-</td>\n",
       "      <td>06879</td>\n",
       "      <td>2,09 %</td>\n",
       "      <td>00144</td>\n",
       "      <td>00:28:00</td>\n",
       "    </tr>\n",
       "    <tr>\n",
       "      <th>4</th>\n",
       "      <td>NaN</td>\n",
       "      <td>CNY/RUB</td>\n",
       "      <td>117051</td>\n",
       "      <td>-</td>\n",
       "      <td>115003</td>\n",
       "      <td>1,78 %</td>\n",
       "      <td>02049</td>\n",
       "      <td>00:27:00</td>\n",
       "    </tr>\n",
       "  </tbody>\n",
       "</table>\n",
       "</div>"
      ],
      "text/plain": [
       "   Unnamed: 0    Рубль Предложение Спрос Предыдущее закрытие       %  \\\n",
       "0         NaN  GBP/RUB     1049318     -             1037452  1,14 %   \n",
       "1         NaN  EUR/RUB      903650     -              893140  1,18 %   \n",
       "2         NaN  USD/RUB      763080     -              748417  1,96 %   \n",
       "3         NaN  JPY/RUB       07022     -               06879  2,09 %   \n",
       "4         NaN  CNY/RUB      117051     -              115003  1,78 %   \n",
       "\n",
       "  Абсолютное значение     Время  \n",
       "0               11866  00:28:00  \n",
       "1               10510  00:28:00  \n",
       "2               14663  00:28:00  \n",
       "3               00144  00:28:00  \n",
       "4               02049  00:27:00  "
      ]
     },
     "execution_count": 16,
     "metadata": {},
     "output_type": "execute_result"
    }
   ],
   "source": [
    "test = pd.read_html(\"https://www.finanz.ru/valyuty/v-realnom-vremeni\", encoding = \"utf-8\" )[1]\n",
    "test.head()"
   ]
  }
 ],
 "metadata": {
  "kernelspec": {
   "display_name": "Python 3",
   "language": "python",
   "name": "python3"
  },
  "language_info": {
   "codemirror_mode": {
    "name": "ipython",
    "version": 3
   },
   "file_extension": ".py",
   "mimetype": "text/x-python",
   "name": "python",
   "nbconvert_exporter": "python",
   "pygments_lexer": "ipython3",
   "version": "3.8.5"
  }
 },
 "nbformat": 4,
 "nbformat_minor": 4
}
